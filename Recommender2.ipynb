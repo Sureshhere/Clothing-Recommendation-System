{
 "cells": [
  {
   "cell_type": "code",
   "execution_count": 6,
   "id": "b34dc8eb",
   "metadata": {},
   "outputs": [],
   "source": [
    "import pandas as pd\n",
    "import numpy as np\n",
    "from scipy.sparse.linalg import svds\n",
    "from sklearn.metrics.pairwise import cosine_similarity\n",
    "from sklearn.metrics.pairwise import cosine_similarity\n",
    "from sklearn.feature_extraction.text import TfidfVectorizer"
   ]
  },
  {
   "cell_type": "code",
   "execution_count": 7,
   "id": "7e0f9e8b",
   "metadata": {},
   "outputs": [],
   "source": [
    "originalData = pd.read_csv(\"C:\\\\Users\\\\sures\\\\Desktop\\\\clothingData.csv\")"
   ]
  },
  {
   "cell_type": "code",
   "execution_count": 8,
   "id": "f319d991",
   "metadata": {},
   "outputs": [
    {
     "data": {
      "text/plain": [
       "(44446, 10)"
      ]
     },
     "execution_count": 8,
     "metadata": {},
     "output_type": "execute_result"
    }
   ],
   "source": [
    "originalData.shape"
   ]
  },
  {
   "cell_type": "markdown",
   "id": "b8aa5725",
   "metadata": {},
   "source": [
    "## setting up the product data"
   ]
  },
  {
   "cell_type": "code",
   "execution_count": 9,
   "id": "dd89be79",
   "metadata": {},
   "outputs": [],
   "source": [
    "df = originalData.dropna()"
   ]
  },
  {
   "cell_type": "code",
   "execution_count": 10,
   "id": "7b6f9353",
   "metadata": {},
   "outputs": [],
   "source": [
    "df= df.drop(['gender','year','usage','season'],axis=1)"
   ]
  },
  {
   "cell_type": "code",
   "execution_count": 11,
   "id": "05f07d0c",
   "metadata": {},
   "outputs": [
    {
     "data": {
      "text/html": [
       "<div>\n",
       "<style scoped>\n",
       "    .dataframe tbody tr th:only-of-type {\n",
       "        vertical-align: middle;\n",
       "    }\n",
       "\n",
       "    .dataframe tbody tr th {\n",
       "        vertical-align: top;\n",
       "    }\n",
       "\n",
       "    .dataframe thead th {\n",
       "        text-align: right;\n",
       "    }\n",
       "</style>\n",
       "<table border=\"1\" class=\"dataframe\">\n",
       "  <thead>\n",
       "    <tr style=\"text-align: right;\">\n",
       "      <th></th>\n",
       "      <th>id</th>\n",
       "      <th>masterCategory</th>\n",
       "      <th>subCategory</th>\n",
       "      <th>articleType</th>\n",
       "      <th>baseColour</th>\n",
       "      <th>productName</th>\n",
       "    </tr>\n",
       "  </thead>\n",
       "  <tbody>\n",
       "    <tr>\n",
       "      <th>0</th>\n",
       "      <td>15970</td>\n",
       "      <td>Apparel</td>\n",
       "      <td>Topwear</td>\n",
       "      <td>Shirts</td>\n",
       "      <td>Navy Blue</td>\n",
       "      <td>Turtle Check Men Navy Blue Shirt</td>\n",
       "    </tr>\n",
       "    <tr>\n",
       "      <th>1</th>\n",
       "      <td>39386</td>\n",
       "      <td>Apparel</td>\n",
       "      <td>Bottomwear</td>\n",
       "      <td>Jeans</td>\n",
       "      <td>Blue</td>\n",
       "      <td>Peter England Men Party Blue Jeans</td>\n",
       "    </tr>\n",
       "    <tr>\n",
       "      <th>2</th>\n",
       "      <td>59263</td>\n",
       "      <td>Accessories</td>\n",
       "      <td>Watches</td>\n",
       "      <td>Watches</td>\n",
       "      <td>Silver</td>\n",
       "      <td>Titan Women Silver Watch</td>\n",
       "    </tr>\n",
       "    <tr>\n",
       "      <th>3</th>\n",
       "      <td>21379</td>\n",
       "      <td>Apparel</td>\n",
       "      <td>Bottomwear</td>\n",
       "      <td>Track Pants</td>\n",
       "      <td>Black</td>\n",
       "      <td>Manchester United Men Solid Black Track Pants</td>\n",
       "    </tr>\n",
       "    <tr>\n",
       "      <th>4</th>\n",
       "      <td>53759</td>\n",
       "      <td>Apparel</td>\n",
       "      <td>Topwear</td>\n",
       "      <td>Tshirts</td>\n",
       "      <td>Grey</td>\n",
       "      <td>Puma Men Grey T-shirt</td>\n",
       "    </tr>\n",
       "  </tbody>\n",
       "</table>\n",
       "</div>"
      ],
      "text/plain": [
       "      id masterCategory subCategory  articleType baseColour  \\\n",
       "0  15970        Apparel     Topwear       Shirts  Navy Blue   \n",
       "1  39386        Apparel  Bottomwear        Jeans       Blue   \n",
       "2  59263    Accessories     Watches      Watches     Silver   \n",
       "3  21379        Apparel  Bottomwear  Track Pants      Black   \n",
       "4  53759        Apparel     Topwear      Tshirts       Grey   \n",
       "\n",
       "                                     productName  \n",
       "0               Turtle Check Men Navy Blue Shirt  \n",
       "1             Peter England Men Party Blue Jeans  \n",
       "2                       Titan Women Silver Watch  \n",
       "3  Manchester United Men Solid Black Track Pants  \n",
       "4                          Puma Men Grey T-shirt  "
      ]
     },
     "execution_count": 11,
     "metadata": {},
     "output_type": "execute_result"
    }
   ],
   "source": [
    "df.head()"
   ]
  },
  {
   "cell_type": "code",
   "execution_count": 12,
   "id": "9fb99e86",
   "metadata": {},
   "outputs": [
    {
     "data": {
      "text/html": [
       "<div>\n",
       "<style scoped>\n",
       "    .dataframe tbody tr th:only-of-type {\n",
       "        vertical-align: middle;\n",
       "    }\n",
       "\n",
       "    .dataframe tbody tr th {\n",
       "        vertical-align: top;\n",
       "    }\n",
       "\n",
       "    .dataframe thead th {\n",
       "        text-align: right;\n",
       "    }\n",
       "</style>\n",
       "<table border=\"1\" class=\"dataframe\">\n",
       "  <thead>\n",
       "    <tr style=\"text-align: right;\">\n",
       "      <th></th>\n",
       "      <th>id</th>\n",
       "      <th>masterCategory</th>\n",
       "      <th>subCategory</th>\n",
       "      <th>articleType</th>\n",
       "      <th>baseColour</th>\n",
       "      <th>productName</th>\n",
       "    </tr>\n",
       "  </thead>\n",
       "  <tbody>\n",
       "    <tr>\n",
       "      <th>186</th>\n",
       "      <td>21948</td>\n",
       "      <td>Accessories</td>\n",
       "      <td>Bags</td>\n",
       "      <td>Handbags</td>\n",
       "      <td>Brown</td>\n",
       "      <td>Murcia Women Casual Brown Handbag</td>\n",
       "    </tr>\n",
       "    <tr>\n",
       "      <th>230</th>\n",
       "      <td>45603</td>\n",
       "      <td>Footwear</td>\n",
       "      <td>Shoes</td>\n",
       "      <td>Formal Shoes</td>\n",
       "      <td>Black</td>\n",
       "      <td>Arrow Men Black Formal Shoes</td>\n",
       "    </tr>\n",
       "    <tr>\n",
       "      <th>349</th>\n",
       "      <td>41861</td>\n",
       "      <td>Footwear</td>\n",
       "      <td>Sandal</td>\n",
       "      <td>Sandals</td>\n",
       "      <td>Black</td>\n",
       "      <td>Estd. 1977 Men Black Sandals</td>\n",
       "    </tr>\n",
       "    <tr>\n",
       "      <th>373</th>\n",
       "      <td>58726</td>\n",
       "      <td>Apparel</td>\n",
       "      <td>Topwear</td>\n",
       "      <td>Tshirts</td>\n",
       "      <td>Grey</td>\n",
       "      <td>Puma Men Grey T-shirt</td>\n",
       "    </tr>\n",
       "    <tr>\n",
       "      <th>392</th>\n",
       "      <td>16950</td>\n",
       "      <td>Accessories</td>\n",
       "      <td>Eyewear</td>\n",
       "      <td>Sunglasses</td>\n",
       "      <td>Brown</td>\n",
       "      <td>Image Men Sunglasses</td>\n",
       "    </tr>\n",
       "    <tr>\n",
       "      <th>...</th>\n",
       "      <td>...</td>\n",
       "      <td>...</td>\n",
       "      <td>...</td>\n",
       "      <td>...</td>\n",
       "      <td>...</td>\n",
       "      <td>...</td>\n",
       "    </tr>\n",
       "    <tr>\n",
       "      <th>44427</th>\n",
       "      <td>37431</td>\n",
       "      <td>Accessories</td>\n",
       "      <td>Bags</td>\n",
       "      <td>Handbags</td>\n",
       "      <td>Black</td>\n",
       "      <td>Murcia Women Black Handbag</td>\n",
       "    </tr>\n",
       "    <tr>\n",
       "      <th>44432</th>\n",
       "      <td>38479</td>\n",
       "      <td>Apparel</td>\n",
       "      <td>Topwear</td>\n",
       "      <td>Tshirts</td>\n",
       "      <td>Green</td>\n",
       "      <td>Gini and Jony Boys Core Green T-shirt</td>\n",
       "    </tr>\n",
       "    <tr>\n",
       "      <th>44433</th>\n",
       "      <td>33091</td>\n",
       "      <td>Footwear</td>\n",
       "      <td>Shoes</td>\n",
       "      <td>Heels</td>\n",
       "      <td>Gold</td>\n",
       "      <td>Catwalk Women Gold Flats</td>\n",
       "    </tr>\n",
       "    <tr>\n",
       "      <th>44440</th>\n",
       "      <td>42234</td>\n",
       "      <td>Apparel</td>\n",
       "      <td>Topwear</td>\n",
       "      <td>Tops</td>\n",
       "      <td>Blue</td>\n",
       "      <td>Sepia Women Blue Printed Top</td>\n",
       "    </tr>\n",
       "    <tr>\n",
       "      <th>44444</th>\n",
       "      <td>46694</td>\n",
       "      <td>Personal Care</td>\n",
       "      <td>Fragrance</td>\n",
       "      <td>Perfume and Body Mist</td>\n",
       "      <td>Blue</td>\n",
       "      <td>Rasasi Women Blue Lady Perfume</td>\n",
       "    </tr>\n",
       "  </tbody>\n",
       "</table>\n",
       "<p>13279 rows × 6 columns</p>\n",
       "</div>"
      ],
      "text/plain": [
       "          id masterCategory subCategory            articleType baseColour  \\\n",
       "186    21948    Accessories        Bags               Handbags      Brown   \n",
       "230    45603       Footwear       Shoes           Formal Shoes      Black   \n",
       "349    41861       Footwear      Sandal                Sandals      Black   \n",
       "373    58726        Apparel     Topwear                Tshirts       Grey   \n",
       "392    16950    Accessories     Eyewear             Sunglasses      Brown   \n",
       "...      ...            ...         ...                    ...        ...   \n",
       "44427  37431    Accessories        Bags               Handbags      Black   \n",
       "44432  38479        Apparel     Topwear                Tshirts      Green   \n",
       "44433  33091       Footwear       Shoes                  Heels       Gold   \n",
       "44440  42234        Apparel     Topwear                   Tops       Blue   \n",
       "44444  46694  Personal Care   Fragrance  Perfume and Body Mist       Blue   \n",
       "\n",
       "                                 productName  \n",
       "186        Murcia Women Casual Brown Handbag  \n",
       "230             Arrow Men Black Formal Shoes  \n",
       "349             Estd. 1977 Men Black Sandals  \n",
       "373                    Puma Men Grey T-shirt  \n",
       "392                     Image Men Sunglasses  \n",
       "...                                      ...  \n",
       "44427             Murcia Women Black Handbag  \n",
       "44432  Gini and Jony Boys Core Green T-shirt  \n",
       "44433               Catwalk Women Gold Flats  \n",
       "44440           Sepia Women Blue Printed Top  \n",
       "44444         Rasasi Women Blue Lady Perfume  \n",
       "\n",
       "[13279 rows x 6 columns]"
      ]
     },
     "execution_count": 12,
     "metadata": {},
     "output_type": "execute_result"
    }
   ],
   "source": [
    "duplicate = df[df['productName'].duplicated()]\n",
    "duplicate"
   ]
  },
  {
   "cell_type": "code",
   "execution_count": 13,
   "id": "cc7ac221",
   "metadata": {},
   "outputs": [
    {
     "data": {
      "text/plain": [
       "(44099, 6)"
      ]
     },
     "execution_count": 13,
     "metadata": {},
     "output_type": "execute_result"
    }
   ],
   "source": [
    "df.shape"
   ]
  },
  {
   "cell_type": "code",
   "execution_count": 14,
   "id": "807b517b",
   "metadata": {},
   "outputs": [
    {
     "data": {
      "text/plain": [
       "13279"
      ]
     },
     "execution_count": 14,
     "metadata": {},
     "output_type": "execute_result"
    }
   ],
   "source": [
    "# finding duplicate products\n",
    "duplicates = df['productName'].duplicated(keep='first')\n",
    "duplicates.sum()"
   ]
  },
  {
   "cell_type": "code",
   "execution_count": 15,
   "id": "492c3d80",
   "metadata": {},
   "outputs": [
    {
     "data": {
      "text/plain": [
       "(30820, 6)"
      ]
     },
     "execution_count": 15,
     "metadata": {},
     "output_type": "execute_result"
    }
   ],
   "source": [
    "# selecting on those rows which has no duplicate productNames\n",
    "result = df[~duplicates]\n",
    "result.shape"
   ]
  },
  {
   "cell_type": "code",
   "execution_count": 16,
   "id": "5e5e030b",
   "metadata": {},
   "outputs": [],
   "source": [
    "df = result.head(10000)"
   ]
  },
  {
   "cell_type": "markdown",
   "id": "1a752c8c",
   "metadata": {},
   "source": [
    "## setting up the image data"
   ]
  },
  {
   "cell_type": "code",
   "execution_count": 18,
   "id": "c1987299",
   "metadata": {},
   "outputs": [
    {
     "data": {
      "text/html": [
       "<div>\n",
       "<style scoped>\n",
       "    .dataframe tbody tr th:only-of-type {\n",
       "        vertical-align: middle;\n",
       "    }\n",
       "\n",
       "    .dataframe tbody tr th {\n",
       "        vertical-align: top;\n",
       "    }\n",
       "\n",
       "    .dataframe thead th {\n",
       "        text-align: right;\n",
       "    }\n",
       "</style>\n",
       "<table border=\"1\" class=\"dataframe\">\n",
       "  <thead>\n",
       "    <tr style=\"text-align: right;\">\n",
       "      <th></th>\n",
       "      <th>filename</th>\n",
       "      <th>productName</th>\n",
       "      <th>link</th>\n",
       "    </tr>\n",
       "  </thead>\n",
       "  <tbody>\n",
       "    <tr>\n",
       "      <th>0</th>\n",
       "      <td>15970.jpg</td>\n",
       "      <td>Turtle Check Men Navy Blue Shirt</td>\n",
       "      <td>http://assets.myntassets.com/v1/images/style/p...</td>\n",
       "    </tr>\n",
       "    <tr>\n",
       "      <th>1</th>\n",
       "      <td>39386.jpg</td>\n",
       "      <td>Peter England Men Party Blue Jeans</td>\n",
       "      <td>http://assets.myntassets.com/v1/images/style/p...</td>\n",
       "    </tr>\n",
       "  </tbody>\n",
       "</table>\n",
       "</div>"
      ],
      "text/plain": [
       "    filename                         productName  \\\n",
       "0  15970.jpg    Turtle Check Men Navy Blue Shirt   \n",
       "1  39386.jpg  Peter England Men Party Blue Jeans   \n",
       "\n",
       "                                                link  \n",
       "0  http://assets.myntassets.com/v1/images/style/p...  \n",
       "1  http://assets.myntassets.com/v1/images/style/p...  "
      ]
     },
     "execution_count": 18,
     "metadata": {},
     "output_type": "execute_result"
    }
   ],
   "source": [
    "imgData = pd.read_csv(\"C:\\\\Users\\\\sures\\\\Desktop\\\\images.csv\")\n",
    "imgData.head(2)"
   ]
  },
  {
   "cell_type": "code",
   "execution_count": 19,
   "id": "8d182817",
   "metadata": {},
   "outputs": [],
   "source": [
    "imgData = imgData.drop_duplicates(subset='productName')"
   ]
  },
  {
   "cell_type": "code",
   "execution_count": 20,
   "id": "fd442ef8",
   "metadata": {},
   "outputs": [],
   "source": [
    "imgData = imgData[['link', 'productName']]\n",
    "result = result[['productName']]"
   ]
  },
  {
   "cell_type": "code",
   "execution_count": 21,
   "id": "64398c24",
   "metadata": {},
   "outputs": [
    {
     "data": {
      "text/html": [
       "<div>\n",
       "<style scoped>\n",
       "    .dataframe tbody tr th:only-of-type {\n",
       "        vertical-align: middle;\n",
       "    }\n",
       "\n",
       "    .dataframe tbody tr th {\n",
       "        vertical-align: top;\n",
       "    }\n",
       "\n",
       "    .dataframe thead th {\n",
       "        text-align: right;\n",
       "    }\n",
       "</style>\n",
       "<table border=\"1\" class=\"dataframe\">\n",
       "  <thead>\n",
       "    <tr style=\"text-align: right;\">\n",
       "      <th></th>\n",
       "      <th>link</th>\n",
       "      <th>productName</th>\n",
       "    </tr>\n",
       "  </thead>\n",
       "  <tbody>\n",
       "    <tr>\n",
       "      <th>0</th>\n",
       "      <td>http://assets.myntassets.com/v1/images/style/p...</td>\n",
       "      <td>Turtle Check Men Navy Blue Shirt</td>\n",
       "    </tr>\n",
       "    <tr>\n",
       "      <th>1</th>\n",
       "      <td>http://assets.myntassets.com/v1/images/style/p...</td>\n",
       "      <td>Peter England Men Party Blue Jeans</td>\n",
       "    </tr>\n",
       "    <tr>\n",
       "      <th>2</th>\n",
       "      <td>http://assets.myntassets.com/v1/images/style/p...</td>\n",
       "      <td>Titan Women Silver Watch</td>\n",
       "    </tr>\n",
       "    <tr>\n",
       "      <th>3</th>\n",
       "      <td>http://assets.myntassets.com/v1/images/style/p...</td>\n",
       "      <td>Manchester United Men Solid Black Track Pants</td>\n",
       "    </tr>\n",
       "    <tr>\n",
       "      <th>4</th>\n",
       "      <td>http://assets.myntassets.com/v1/images/style/p...</td>\n",
       "      <td>Puma Men Grey T-shirt</td>\n",
       "    </tr>\n",
       "    <tr>\n",
       "      <th>...</th>\n",
       "      <td>...</td>\n",
       "      <td>...</td>\n",
       "    </tr>\n",
       "    <tr>\n",
       "      <th>30815</th>\n",
       "      <td>http://assets.myntassets.com/v1/images/style/p...</td>\n",
       "      <td>Tantra Women Printed Peach T-shirt</td>\n",
       "    </tr>\n",
       "    <tr>\n",
       "      <th>30816</th>\n",
       "      <td>http://assets.myntassets.com/v1/images/style/p...</td>\n",
       "      <td>Gas Men Caddy Casual Shoe</td>\n",
       "    </tr>\n",
       "    <tr>\n",
       "      <th>30817</th>\n",
       "      <td>http://assets.myntassets.com/v1/images/style/p...</td>\n",
       "      <td>Lotto Men's Soccer Track Flip Flop</td>\n",
       "    </tr>\n",
       "    <tr>\n",
       "      <th>30818</th>\n",
       "      <td>http://assets.myntassets.com/v1/images/style/p...</td>\n",
       "      <td>Puma Men Graphic Stellar Blue Tshirt</td>\n",
       "    </tr>\n",
       "    <tr>\n",
       "      <th>30819</th>\n",
       "      <td>http://assets.myntassets.com/assets/images/516...</td>\n",
       "      <td>Fossil Women Pink Dial Chronograph Watch ES3050</td>\n",
       "    </tr>\n",
       "  </tbody>\n",
       "</table>\n",
       "<p>30820 rows × 2 columns</p>\n",
       "</div>"
      ],
      "text/plain": [
       "                                                    link  \\\n",
       "0      http://assets.myntassets.com/v1/images/style/p...   \n",
       "1      http://assets.myntassets.com/v1/images/style/p...   \n",
       "2      http://assets.myntassets.com/v1/images/style/p...   \n",
       "3      http://assets.myntassets.com/v1/images/style/p...   \n",
       "4      http://assets.myntassets.com/v1/images/style/p...   \n",
       "...                                                  ...   \n",
       "30815  http://assets.myntassets.com/v1/images/style/p...   \n",
       "30816  http://assets.myntassets.com/v1/images/style/p...   \n",
       "30817  http://assets.myntassets.com/v1/images/style/p...   \n",
       "30818  http://assets.myntassets.com/v1/images/style/p...   \n",
       "30819  http://assets.myntassets.com/assets/images/516...   \n",
       "\n",
       "                                           productName  \n",
       "0                     Turtle Check Men Navy Blue Shirt  \n",
       "1                   Peter England Men Party Blue Jeans  \n",
       "2                             Titan Women Silver Watch  \n",
       "3        Manchester United Men Solid Black Track Pants  \n",
       "4                                Puma Men Grey T-shirt  \n",
       "...                                                ...  \n",
       "30815               Tantra Women Printed Peach T-shirt  \n",
       "30816                        Gas Men Caddy Casual Shoe  \n",
       "30817               Lotto Men's Soccer Track Flip Flop  \n",
       "30818             Puma Men Graphic Stellar Blue Tshirt  \n",
       "30819  Fossil Women Pink Dial Chronograph Watch ES3050  \n",
       "\n",
       "[30820 rows x 2 columns]"
      ]
     },
     "execution_count": 21,
     "metadata": {},
     "output_type": "execute_result"
    }
   ],
   "source": [
    "finalImageData = imgData.merge(result, on='productName', how='inner')\n",
    "finalImageData"
   ]
  },
  {
   "cell_type": "code",
   "execution_count": 72,
   "id": "058ff0e1",
   "metadata": {},
   "outputs": [
    {
     "data": {
      "text/html": [
       "<div>\n",
       "<style scoped>\n",
       "    .dataframe tbody tr th:only-of-type {\n",
       "        vertical-align: middle;\n",
       "    }\n",
       "\n",
       "    .dataframe tbody tr th {\n",
       "        vertical-align: top;\n",
       "    }\n",
       "\n",
       "    .dataframe thead th {\n",
       "        text-align: right;\n",
       "    }\n",
       "</style>\n",
       "<table border=\"1\" class=\"dataframe\">\n",
       "  <thead>\n",
       "    <tr style=\"text-align: right;\">\n",
       "      <th></th>\n",
       "      <th>id</th>\n",
       "      <th>masterCategory</th>\n",
       "      <th>subCategory</th>\n",
       "      <th>articleType</th>\n",
       "      <th>baseColour</th>\n",
       "      <th>productName</th>\n",
       "      <th>text</th>\n",
       "    </tr>\n",
       "  </thead>\n",
       "  <tbody>\n",
       "    <tr>\n",
       "      <th>0</th>\n",
       "      <td>15970</td>\n",
       "      <td>Apparel</td>\n",
       "      <td>Topwear</td>\n",
       "      <td>Shirts</td>\n",
       "      <td>Navy Blue</td>\n",
       "      <td>Turtle Check Men Navy Blue Shirt</td>\n",
       "      <td>Navy Blue Shirts</td>\n",
       "    </tr>\n",
       "    <tr>\n",
       "      <th>1</th>\n",
       "      <td>39386</td>\n",
       "      <td>Apparel</td>\n",
       "      <td>Bottomwear</td>\n",
       "      <td>Jeans</td>\n",
       "      <td>Blue</td>\n",
       "      <td>Peter England Men Party Blue Jeans</td>\n",
       "      <td>Blue Jeans</td>\n",
       "    </tr>\n",
       "  </tbody>\n",
       "</table>\n",
       "</div>"
      ],
      "text/plain": [
       "      id masterCategory subCategory articleType baseColour  \\\n",
       "0  15970        Apparel     Topwear      Shirts  Navy Blue   \n",
       "1  39386        Apparel  Bottomwear       Jeans       Blue   \n",
       "\n",
       "                          productName              text  \n",
       "0    Turtle Check Men Navy Blue Shirt  Navy Blue Shirts  \n",
       "1  Peter England Men Party Blue Jeans        Blue Jeans  "
      ]
     },
     "execution_count": 72,
     "metadata": {},
     "output_type": "execute_result"
    }
   ],
   "source": [
    "df.head(2)"
   ]
  },
  {
   "cell_type": "code",
   "execution_count": 64,
   "id": "0c19483a",
   "metadata": {},
   "outputs": [],
   "source": [
    "# Create a text feature by combining multiple columns\n",
    "df[\"text\"] = df['baseColour'] + ' ' + df['articleType']"
   ]
  },
  {
   "cell_type": "code",
   "execution_count": 70,
   "id": "73facc8c",
   "metadata": {},
   "outputs": [],
   "source": [
    "# TF-IDF vectorization \n",
    "tfidf = TfidfVectorizer(stop_words='english')\n",
    "tfidf_matrix = tfidf.fit_transform(df['text'])\n",
    "\n",
    "# Calculate cosine similarity\n",
    "cosine_sim = cosine_similarity(tfidf_matrix, tfidf_matrix)"
   ]
  },
  {
   "cell_type": "code",
   "execution_count": 71,
   "id": "e93e9a2b",
   "metadata": {},
   "outputs": [
    {
     "data": {
      "text/plain": [
       "<10000x196 sparse matrix of type '<class 'numpy.float64'>'\n",
       "\twith 23130 stored elements in Compressed Sparse Row format>"
      ]
     },
     "execution_count": 71,
     "metadata": {},
     "output_type": "execute_result"
    }
   ],
   "source": [
    "tfidf_matrix"
   ]
  },
  {
   "cell_type": "code",
   "execution_count": 66,
   "id": "463c9178",
   "metadata": {},
   "outputs": [
    {
     "data": {
      "text/plain": [
       "array([1.        , 0.21559707, 0.        , ..., 0.        , 0.        ,\n",
       "       0.        ])"
      ]
     },
     "execution_count": 66,
     "metadata": {},
     "output_type": "execute_result"
    }
   ],
   "source": [
    "cosine_sim[0]"
   ]
  },
  {
   "cell_type": "markdown",
   "id": "8dc32665",
   "metadata": {},
   "source": [
    "## content based filtering"
   ]
  },
  {
   "cell_type": "code",
   "execution_count": 67,
   "id": "06671ea1",
   "metadata": {},
   "outputs": [],
   "source": [
    "def get_recommendations(product_name, article_type, base_color, cosine_sim=cosine_sim):\n",
    "    # Create a text combining product name, article type, and base color\n",
    "    text = f'{base_color} {article_type} {product_name}' # blue shirt puma-shirt\n",
    "                                                        # blue shirt\n",
    "\n",
    "    # Get the indices for items matching the text\n",
    "    matching_indices = df[df[\"text\"] == text].index  \n",
    "\n",
    "    # Initialize an empty DataFrame to store similar items\n",
    "    similar_items = pd.DataFrame(columns=['productName'])\n",
    "\n",
    "    # Check for similar items based on article type\n",
    "    for index in matching_indices:\n",
    "        similar_items = similar_items.append(\n",
    "            df[df['articleType'] == df.at[index, 'articleType']][['productName']], ignore_index=True)\n",
    "\n",
    "    # Check for similar items based on base color\n",
    "    for index in matching_indices:\n",
    "        similar_items = similar_items.append(\n",
    "            df[df['baseColour'] == df.at[index, 'baseColour']][['productName']], ignore_index=True)\n",
    "\n",
    "    # If no matches are found based on article type or base color, search for similar product names\n",
    "    if similar_items.empty:\n",
    "        # Use text similarity or other matching techniques to find similar items\n",
    "        product_tokens = product_name.lower().split()\n",
    "\n",
    "        # Initialize a list to store matching product names\n",
    "        matching_product_names = []\n",
    "\n",
    "        # Loop through each product name in the dataset\n",
    "        for index, row in df.iterrows():\n",
    "            name_tokens = row['productName'].lower().split()\n",
    "\n",
    "            # Calculate Jaccard similarity or other similarity metrics\n",
    "            intersection = len(set(product_tokens) & set(name_tokens))\n",
    "            union = len(set(product_tokens) | set(name_tokens))\n",
    "\n",
    "            # Adjust the similarity threshold as needed\n",
    "            similarity = intersection / union\n",
    "\n",
    "            # If the similarity is above a threshold and it's not the input product, consider it a match\n",
    "            if similarity > 0.5 and row['productName'] != product_name:  # Adjust the threshold as needed\n",
    "                matching_product_names.append(row['productName'])\n",
    "\n",
    "        # If matching products are found, return them as recommendations\n",
    "        if matching_product_names:\n",
    "            return matching_product_names\n",
    "\n",
    "        # If no similar items are found, return a message indicating no recommendations\n",
    "        return [\"No recommendations found.\"]\n",
    "\n",
    "    # Remove the input product name from the list of similar items\n",
    "    similar_items = similar_items[similar_items['productName'] != product_name]\n",
    "\n",
    "    # Return the top 10 unique product names as recommendations\n",
    "    return similar_items['productName'].unique()[:10]\n"
   ]
  },
  {
   "cell_type": "code",
   "execution_count": 68,
   "id": "14cf34cc",
   "metadata": {},
   "outputs": [
    {
     "name": "stdout",
     "output_type": "stream",
     "text": [
      "Recommended Items:\n",
      "0 Titan Men Silver Watch\n",
      "1 Titan Women White Watch\n",
      "2 Titan Women Raga Silver Dial Watch\n",
      "3 Titan Women Gold Watch\n",
      "4 Titan Women Silver Dial Watch\n"
     ]
    }
   ],
   "source": [
    "product_name = \"Titan Women Silver Watch\"\n",
    "article_type = \"Watches\"\n",
    "base_colour = \"Silver\"\n",
    "\n",
    "recommended_items = get_recommendations(product_name, article_type, base_colour)\n",
    "\n",
    "# Remove duplicates by converting the list to a set and back to a list\n",
    "recommended_items = list(set(recommended_items))\n",
    "\n",
    "# Print the recommended items\n",
    "print(\"Recommended Items:\")\n",
    "for i, item in enumerate(recommended_items):\n",
    "    if i >= 10:\n",
    "        break\n",
    "    print(i,item)"
   ]
  },
  {
   "cell_type": "markdown",
   "id": "a349bbca",
   "metadata": {},
   "source": [
    "## KNN based filtering"
   ]
  },
  {
   "cell_type": "code",
   "execution_count": 27,
   "id": "ac305066",
   "metadata": {},
   "outputs": [],
   "source": [
    "from sklearn.feature_extraction.text import TfidfVectorizer\n",
    "from sklearn.neighbors import NearestNeighbors\n",
    "\n",
    "# Function to get k-NN recommendations\n",
    "def knn_recommender(user_product_name, article_type, base_colour, k=10):\n",
    "    # Create a feature vector for the input product\n",
    "    input_product = f'{base_colour} {article_type} {user_product_name}'\n",
    "    \n",
    "    # Fit a k-NN model on the TF-IDF matrix\n",
    "    knn = NearestNeighbors(n_neighbors=k, metric='cosine', algorithm='brute')\n",
    "    knn.fit(tfidf_matrix)\n",
    "    \n",
    "    # Transform the input product to TF-IDF representation\n",
    "    input_tfidf = tfidf.transform([input_product])\n",
    "    \n",
    "    # Find the k-NN for the input product\n",
    "    distances, indices = knn.kneighbors(input_tfidf, n_neighbors=k)\n",
    "    \n",
    "    # Get the recommended product indices\n",
    "    recommended_indices = indices[0]\n",
    "    \n",
    "    # Get the recommended product names\n",
    "    recommended_products = df['productName'].iloc[recommended_indices]\n",
    "    \n",
    "    return recommended_products\n"
   ]
  },
  {
   "cell_type": "code",
   "execution_count": 28,
   "id": "8ebd23ea",
   "metadata": {},
   "outputs": [
    {
     "name": "stdout",
     "output_type": "stream",
     "text": [
      "Recommended Items:\n",
      "Fossil Men Silver-Toned Dial Chronograph Watch CH2592\n",
      "Fastrack Women Silver Dial Watch\n",
      "Nautica Men Silver Dial Watch\n",
      "Fastrack Women Silver Dial Casual Watch\n",
      "Aspen Women Silver Dial Watch\n",
      "Fossil Men Silver-Toned Dial Chronograph Watch FS4643\n",
      "Tommy Hilfiger Women Silver-Toned Dial  Watch TH1780453-D\n",
      "CASIO SHEEN Women Silver-Toned Dial Watch SX042\n",
      "Maxima Women Silver Dial Watch\n",
      "Casio Enticer Men Silver-Gold Analogue Watch MTP-1235SG-7ADF(A359)\n"
     ]
    }
   ],
   "source": [
    "product_name = \"Titan Women Silver Watch\"\n",
    "article_type = \"Watches\"\n",
    "base_colour = \"Silver\"\n",
    "\n",
    "\n",
    "recommended_items = knn_recommender(product_name, article_type, base_colour)\n",
    "\n",
    "# Print the recommended items\n",
    "print(\"Recommended Items:\")\n",
    "for item in recommended_items:\n",
    "    print(item)"
   ]
  },
  {
   "cell_type": "code",
   "execution_count": 73,
   "id": "97672397",
   "metadata": {},
   "outputs": [],
   "source": [
    "def get_combined_recommendations(user_product_name, article_type, base_color, k=10):\n",
    "    # Get recommendations using content-based filtering\n",
    "    content_recommendations = get_recommendations(user_product_name, article_type, base_color, cosine_sim=cosine_sim)\n",
    "    \n",
    "    # Calculate how many recommendations are needed from k-NN to reach the total of 10\n",
    "    k_nn_needed = max(k - len(content_recommendations), 1)  # Ensure k_nn_needed is at least 1\n",
    "    \n",
    "    # Get recommendations using k-NN\n",
    "    knn_recommendations = knn_recommender(user_product_name, article_type, base_color, k=k_nn_needed)\n",
    "    \n",
    "    # Concatenate the results while ensuring a total of 10 recommendations\n",
    "    combined_recommendations = list(content_recommendations) + list(knn_recommendations)\n",
    "    \n",
    "    return combined_recommendations\n"
   ]
  },
  {
   "cell_type": "code",
   "execution_count": 74,
   "id": "99bc9186",
   "metadata": {},
   "outputs": [
    {
     "name": "stdout",
     "output_type": "stream",
     "text": [
      "Product Name: Jealous 21 Women Uaine Purple Tops\n"
     ]
    },
    {
     "data": {
      "text/html": [
       "<img src=\"http://assets.myntassets.com/v1/images/style/properties/144954d20ce2e31fe6953f3e249e9a68_images.jpg\" width=\"100\" height=\"100\"/>"
      ],
      "text/plain": [
       "<IPython.core.display.Image object>"
      ]
     },
     "metadata": {},
     "output_type": "display_data"
    },
    {
     "name": "stdout",
     "output_type": "stream",
     "text": [
      "Product Name: Jealous 21 Women Teal Shirt\n"
     ]
    },
    {
     "data": {
      "text/html": [
       "<img src=\"http://assets.myntassets.com/v1/images/style/properties/Jealous-21-Women-Teal-Shirt_33d3c1ebfd4326101c5d138dbef83c65_images.jpg\" width=\"100\" height=\"100\"/>"
      ],
      "text/plain": [
       "<IPython.core.display.Image object>"
      ]
     },
     "metadata": {},
     "output_type": "display_data"
    },
    {
     "name": "stdout",
     "output_type": "stream",
     "text": [
      "Product Name: Jealous 21 Women Check Purple Top\n"
     ]
    },
    {
     "data": {
      "text/html": [
       "<img src=\"http://assets.myntassets.com/v1/images/style/properties/e8b5c954c90a2e6d42130f1deb95b18b_images.jpg\" width=\"100\" height=\"100\"/>"
      ],
      "text/plain": [
       "<IPython.core.display.Image object>"
      ]
     },
     "metadata": {},
     "output_type": "display_data"
    },
    {
     "name": "stdout",
     "output_type": "stream",
     "text": [
      "Product Name: Jealous 21 Women Check Purple Shirt\n"
     ]
    },
    {
     "data": {
      "text/html": [
       "<img src=\"http://assets.myntassets.com/v1/images/style/properties/aac1d1375bd77169e8b4c498769b4453_images.jpg\" width=\"100\" height=\"100\"/>"
      ],
      "text/plain": [
       "<IPython.core.display.Image object>"
      ]
     },
     "metadata": {},
     "output_type": "display_data"
    },
    {
     "name": "stdout",
     "output_type": "stream",
     "text": [
      "Product Name: Jealous 21 Women Pink Shirt\n"
     ]
    },
    {
     "data": {
      "text/html": [
       "<img src=\"http://assets.myntassets.com/v1/images/style/properties/Jealous-21-Women-Pink-Shirt_2be751c2df8558fb7682f836dd678492_images.jpg\" width=\"100\" height=\"100\"/>"
      ],
      "text/plain": [
       "<IPython.core.display.Image object>"
      ]
     },
     "metadata": {},
     "output_type": "display_data"
    },
    {
     "name": "stdout",
     "output_type": "stream",
     "text": [
      "Product Name: Jealous 21 Women Check Blue Shirt\n"
     ]
    },
    {
     "data": {
      "text/html": [
       "<img src=\"http://assets.myntassets.com/v1/images/style/properties/74335433ed0f40a074134f20a410ae17_images.jpg\" width=\"100\" height=\"100\"/>"
      ],
      "text/plain": [
       "<IPython.core.display.Image object>"
      ]
     },
     "metadata": {},
     "output_type": "display_data"
    },
    {
     "name": "stdout",
     "output_type": "stream",
     "text": [
      "Product Name: Jealous 21 Women Blue Shirt\n"
     ]
    },
    {
     "data": {
      "text/html": [
       "<img src=\"http://assets.myntassets.com/v1/images/style/properties/fd64847dee47a08785762701f1b7043d_images.jpg\" width=\"100\" height=\"100\"/>"
      ],
      "text/plain": [
       "<IPython.core.display.Image object>"
      ]
     },
     "metadata": {},
     "output_type": "display_data"
    },
    {
     "name": "stdout",
     "output_type": "stream",
     "text": [
      "Product Name: Jealous 21 Women Check Red Shirt\n"
     ]
    },
    {
     "data": {
      "text/html": [
       "<img src=\"http://assets.myntassets.com/v1/images/style/properties/326fd9684280b1125d00dd177fd22a78_images.jpg\" width=\"100\" height=\"100\"/>"
      ],
      "text/plain": [
       "<IPython.core.display.Image object>"
      ]
     },
     "metadata": {},
     "output_type": "display_data"
    },
    {
     "name": "stdout",
     "output_type": "stream",
     "text": [
      "Product Name: Jealous 21 Women Jealous Macrae Purple Top\n"
     ]
    },
    {
     "data": {
      "text/html": [
       "<img src=\"http://assets.myntassets.com/v1/images/style/properties/e585a2f163f52ff06395510fc5d95740_images.jpg\" width=\"100\" height=\"100\"/>"
      ],
      "text/plain": [
       "<IPython.core.display.Image object>"
      ]
     },
     "metadata": {},
     "output_type": "display_data"
    },
    {
     "name": "stdout",
     "output_type": "stream",
     "text": [
      "Product Name: Jealous 21 Women Black Shirt\n"
     ]
    },
    {
     "data": {
      "text/html": [
       "<img src=\"http://assets.myntassets.com/v1/images/style/properties/be058d2fa122f95b52c15b5b303ff7e4_images.jpg\" width=\"100\" height=\"100\"/>"
      ],
      "text/plain": [
       "<IPython.core.display.Image object>"
      ]
     },
     "metadata": {},
     "output_type": "display_data"
    },
    {
     "name": "stdout",
     "output_type": "stream",
     "text": [
      "Product Name: Jealous 21 Women Stripes Purple Sweater\n"
     ]
    },
    {
     "data": {
      "text/html": [
       "<img src=\"http://assets.myntassets.com/v1/images/style/properties/9eab3e226974030a586baa0bf9983767_images.jpg\" width=\"100\" height=\"100\"/>"
      ],
      "text/plain": [
       "<IPython.core.display.Image object>"
      ]
     },
     "metadata": {},
     "output_type": "display_data"
    },
    {
     "name": "stdout",
     "output_type": "stream",
     "text": [
      "Product Name: Jealous 21 Women Checks Pink Shirt\n"
     ]
    },
    {
     "data": {
      "text/html": [
       "<img src=\"http://assets.myntassets.com/v1/images/style/properties/faf2cac5c035e3d3e4471d49c267af36_images.jpg\" width=\"100\" height=\"100\"/>"
      ],
      "text/plain": [
       "<IPython.core.display.Image object>"
      ]
     },
     "metadata": {},
     "output_type": "display_data"
    },
    {
     "name": "stdout",
     "output_type": "stream",
     "text": [
      "Product Name: Jealous 21 Women Purple Shirt\n"
     ]
    },
    {
     "data": {
      "text/html": [
       "<img src=\"http://assets.myntassets.com/v1/images/style/properties/45ddbc6a15140556214e15923244755b_images.jpg\" width=\"100\" height=\"100\"/>"
      ],
      "text/plain": [
       "<IPython.core.display.Image object>"
      ]
     },
     "metadata": {},
     "output_type": "display_data"
    }
   ],
   "source": [
    "from IPython.display import Image, display\n",
    "\n",
    "product_name = \"Jealous 21 Women Purple Shirt\"\n",
    "article_type = \"Shirts\"\n",
    "base_color = \"Purple\"\n",
    "\n",
    "recommended_items = get_combined_recommendations(product_name, article_type, base_color)\n",
    "\n",
    "\n",
    "for item in recommended_items:\n",
    "    link_value = finalImageData.loc[finalImageData['productName'] == item, 'link'].values[0]\n",
    "\n",
    "    print(\"Product Name:\", item)\n",
    "\n",
    "    display(Image(url=link_value, width=100, height=100))\n",
    "\n"
   ]
  },
  {
   "cell_type": "code",
   "execution_count": 32,
   "id": "01fb1d51",
   "metadata": {},
   "outputs": [],
   "source": [
    "# import pickle"
   ]
  },
  {
   "cell_type": "code",
   "execution_count": 33,
   "id": "c7935a9f",
   "metadata": {},
   "outputs": [],
   "source": [
    "# pickle.dump(finalImageData.to_dict(),open('productAndImagesDict.pkl','wb'))"
   ]
  },
  {
   "cell_type": "code",
   "execution_count": 34,
   "id": "565564a7",
   "metadata": {},
   "outputs": [],
   "source": [
    "# pickle.dump(finalImageData.to_dict(),open('productAndImagesDict.pkl','wb'))"
   ]
  },
  {
   "cell_type": "code",
   "execution_count": 35,
   "id": "09f76fc0",
   "metadata": {},
   "outputs": [],
   "source": [
    "# articleType_uniqueValues = df['articleType'].unique()\n",
    "# baseColour_uniqueValues = df['baseColour'].unique()"
   ]
  },
  {
   "cell_type": "code",
   "execution_count": 36,
   "id": "7e26ab9b",
   "metadata": {},
   "outputs": [],
   "source": [
    "# articleType_df = pd.DataFrame({'articleType': articleType_uniqueValues})\n",
    "# baseColour_df = pd.DataFrame({'baseColour': baseColour_uniqueValues})"
   ]
  },
  {
   "cell_type": "code",
   "execution_count": 37,
   "id": "76b2cbfb",
   "metadata": {},
   "outputs": [],
   "source": [
    "# pickle.dump(articleType_df.to_dict(),open('articleTypeDict.pkl','wb'))\n",
    "# pickle.dump(baseColour_df.to_dict(),open('baseColourDict.pkl','wb'))"
   ]
  }
 ],
 "metadata": {
  "kernelspec": {
   "display_name": "Python 3 (ipykernel)",
   "language": "python",
   "name": "python3"
  },
  "language_info": {
   "codemirror_mode": {
    "name": "ipython",
    "version": 3
   },
   "file_extension": ".py",
   "mimetype": "text/x-python",
   "name": "python",
   "nbconvert_exporter": "python",
   "pygments_lexer": "ipython3",
   "version": "3.9.16"
  }
 },
 "nbformat": 4,
 "nbformat_minor": 5
}
